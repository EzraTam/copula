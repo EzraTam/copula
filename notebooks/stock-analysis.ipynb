{
 "cells": [
  {
   "cell_type": "code",
   "execution_count": 1,
   "metadata": {},
   "outputs": [],
   "source": [
    "import os\n",
    "import numpy as np\n",
    "import pandas as pd\n",
    "import seaborn as sns\n",
    "from copulas.multivariate import GaussianMultivariate\n",
    "from scipy import stats"
   ]
  },
  {
   "cell_type": "code",
   "execution_count": 2,
   "metadata": {},
   "outputs": [],
   "source": [
    "data_nm=\"indexProcessed.csv\"\n",
    "base_data_folder=\"data\""
   ]
  },
  {
   "cell_type": "code",
   "execution_count": 3,
   "metadata": {},
   "outputs": [
    {
     "name": "stdout",
     "output_type": "stream",
     "text": [
      "Downloading data ...\n",
      "Downloading stock-exchange-data.zip to ../data\n",
      " 66%|█████████████████████████             | 3.00M/4.56M [00:00<00:00, 4.83MB/s]\n",
      "100%|██████████████████████████████████████| 4.56M/4.56M [00:00<00:00, 5.45MB/s]\n",
      "Download done!\n"
     ]
    }
   ],
   "source": [
    "data_path=os.path.join(\"..\",base_data_folder,data_nm)\n",
    "if not os.path.isfile(data_path):\n",
    "    print(\"Downloading data ...\")\n",
    "    !kaggle datasets download -d mattiuzc/stock-exchange-data -p ../data --unzip\n",
    "    print(\"Download done!\")\n",
    "else:\n",
    "    print(\"Data already exist\")"
   ]
  },
  {
   "cell_type": "code",
   "execution_count": 4,
   "metadata": {},
   "outputs": [
    {
     "data": {
      "text/html": [
       "<div>\n",
       "<style scoped>\n",
       "    .dataframe tbody tr th:only-of-type {\n",
       "        vertical-align: middle;\n",
       "    }\n",
       "\n",
       "    .dataframe tbody tr th {\n",
       "        vertical-align: top;\n",
       "    }\n",
       "\n",
       "    .dataframe thead th {\n",
       "        text-align: right;\n",
       "    }\n",
       "</style>\n",
       "<table border=\"1\" class=\"dataframe\">\n",
       "  <thead>\n",
       "    <tr style=\"text-align: right;\">\n",
       "      <th></th>\n",
       "      <th>Index</th>\n",
       "      <th>Date</th>\n",
       "      <th>Open</th>\n",
       "      <th>High</th>\n",
       "      <th>Low</th>\n",
       "      <th>Close</th>\n",
       "      <th>Adj Close</th>\n",
       "      <th>Volume</th>\n",
       "      <th>CloseUSD</th>\n",
       "    </tr>\n",
       "  </thead>\n",
       "  <tbody>\n",
       "    <tr>\n",
       "      <th>0</th>\n",
       "      <td>HSI</td>\n",
       "      <td>1986-12-31</td>\n",
       "      <td>2568.300049</td>\n",
       "      <td>2568.300049</td>\n",
       "      <td>2568.300049</td>\n",
       "      <td>2568.300049</td>\n",
       "      <td>2568.300049</td>\n",
       "      <td>0.0</td>\n",
       "      <td>333.879006</td>\n",
       "    </tr>\n",
       "    <tr>\n",
       "      <th>1</th>\n",
       "      <td>HSI</td>\n",
       "      <td>1987-01-02</td>\n",
       "      <td>2540.100098</td>\n",
       "      <td>2540.100098</td>\n",
       "      <td>2540.100098</td>\n",
       "      <td>2540.100098</td>\n",
       "      <td>2540.100098</td>\n",
       "      <td>0.0</td>\n",
       "      <td>330.213013</td>\n",
       "    </tr>\n",
       "    <tr>\n",
       "      <th>2</th>\n",
       "      <td>HSI</td>\n",
       "      <td>1987-01-05</td>\n",
       "      <td>2552.399902</td>\n",
       "      <td>2552.399902</td>\n",
       "      <td>2552.399902</td>\n",
       "      <td>2552.399902</td>\n",
       "      <td>2552.399902</td>\n",
       "      <td>0.0</td>\n",
       "      <td>331.811987</td>\n",
       "    </tr>\n",
       "    <tr>\n",
       "      <th>3</th>\n",
       "      <td>HSI</td>\n",
       "      <td>1987-01-06</td>\n",
       "      <td>2583.899902</td>\n",
       "      <td>2583.899902</td>\n",
       "      <td>2583.899902</td>\n",
       "      <td>2583.899902</td>\n",
       "      <td>2583.899902</td>\n",
       "      <td>0.0</td>\n",
       "      <td>335.906987</td>\n",
       "    </tr>\n",
       "    <tr>\n",
       "      <th>4</th>\n",
       "      <td>HSI</td>\n",
       "      <td>1987-01-07</td>\n",
       "      <td>2607.100098</td>\n",
       "      <td>2607.100098</td>\n",
       "      <td>2607.100098</td>\n",
       "      <td>2607.100098</td>\n",
       "      <td>2607.100098</td>\n",
       "      <td>0.0</td>\n",
       "      <td>338.923013</td>\n",
       "    </tr>\n",
       "  </tbody>\n",
       "</table>\n",
       "</div>"
      ],
      "text/plain": [
       "  Index        Date         Open         High          Low        Close  \\\n",
       "0   HSI  1986-12-31  2568.300049  2568.300049  2568.300049  2568.300049   \n",
       "1   HSI  1987-01-02  2540.100098  2540.100098  2540.100098  2540.100098   \n",
       "2   HSI  1987-01-05  2552.399902  2552.399902  2552.399902  2552.399902   \n",
       "3   HSI  1987-01-06  2583.899902  2583.899902  2583.899902  2583.899902   \n",
       "4   HSI  1987-01-07  2607.100098  2607.100098  2607.100098  2607.100098   \n",
       "\n",
       "     Adj Close  Volume    CloseUSD  \n",
       "0  2568.300049     0.0  333.879006  \n",
       "1  2540.100098     0.0  330.213013  \n",
       "2  2552.399902     0.0  331.811987  \n",
       "3  2583.899902     0.0  335.906987  \n",
       "4  2607.100098     0.0  338.923013  "
      ]
     },
     "execution_count": 4,
     "metadata": {},
     "output_type": "execute_result"
    }
   ],
   "source": [
    "df=pd.read_csv(data_path)\n",
    "df.head(5)"
   ]
  },
  {
   "cell_type": "code",
   "execution_count": 5,
   "metadata": {},
   "outputs": [
    {
     "data": {
      "text/plain": [
       "array(['HSI', 'NYA', 'IXIC', '000001.SS', 'N225', 'N100', '399001.SZ',\n",
       "       'GSPTSE', 'NSEI', 'GDAXI', 'SSMI', 'TWII', 'J203.JO'], dtype=object)"
      ]
     },
     "execution_count": 5,
     "metadata": {},
     "output_type": "execute_result"
    }
   ],
   "source": [
    "df.Index.unique()"
   ]
  },
  {
   "cell_type": "code",
   "execution_count": null,
   "metadata": {},
   "outputs": [],
   "source": [
    "def filter_df(df):\n",
    "    df_hsi=df.query(\"Index =='HSI'\").reset_index(drop=True)\n",
    "    df[\"pct_change\"]=df_hsi.Close.pct_change()\n",
    "    df[\"year\"]=df_hsi[\"Date\"].apply(lambda x: x[0:4]).astype(int)\n",
    "    return df.query(\"year>2010\").reset_index(drop=True)"
   ]
  },
  {
   "cell_type": "code",
   "execution_count": 41,
   "metadata": {},
   "outputs": [],
   "source": [
    "df_hsi=df.query(\"Index =='HSI'\").reset_index(drop=True)\n",
    "df_hsi[\"pct_change\"]=df_hsi.Close.pct_change()\n",
    "df_hsi[\"year\"]=df_hsi[\"Date\"].apply(lambda x: x[0:4]).astype(int)\n",
    "df_hsi=df_hsi.query(\"year>2010\")\n",
    "df_hsi['pct_change'] = df.Close.pct_change()\n",
    "df_hsi['log_return'] = np.log(1 + df_hsi[\"pct_change\"])\n",
    "data=df_hsi['log_return']\n"
   ]
  },
  {
   "cell_type": "code",
   "execution_count": 36,
   "metadata": {},
   "outputs": [],
   "source": [
    "df_hsi['pct_change'] = df.Close.pct_change()\n",
    "df_hsi['log_return'] = np.log(1 + df_hsi[\"pct_change\"])\n",
    "data=df_hsi['log_return']"
   ]
  },
  {
   "cell_type": "code",
   "execution_count": 40,
   "metadata": {},
   "outputs": [
    {
     "data": {
      "text/html": [
       "<div>\n",
       "<style scoped>\n",
       "    .dataframe tbody tr th:only-of-type {\n",
       "        vertical-align: middle;\n",
       "    }\n",
       "\n",
       "    .dataframe tbody tr th {\n",
       "        vertical-align: top;\n",
       "    }\n",
       "\n",
       "    .dataframe thead th {\n",
       "        text-align: right;\n",
       "    }\n",
       "</style>\n",
       "<table border=\"1\" class=\"dataframe\">\n",
       "  <thead>\n",
       "    <tr style=\"text-align: right;\">\n",
       "      <th></th>\n",
       "      <th>Index</th>\n",
       "      <th>Date</th>\n",
       "      <th>Open</th>\n",
       "      <th>High</th>\n",
       "      <th>Low</th>\n",
       "      <th>Close</th>\n",
       "      <th>Adj Close</th>\n",
       "      <th>Volume</th>\n",
       "      <th>CloseUSD</th>\n",
       "      <th>pct_change</th>\n",
       "      <th>year</th>\n",
       "      <th>log_return</th>\n",
       "    </tr>\n",
       "  </thead>\n",
       "  <tbody>\n",
       "    <tr>\n",
       "      <th>5934</th>\n",
       "      <td>HSI</td>\n",
       "      <td>2011-01-03</td>\n",
       "      <td>23135.64063</td>\n",
       "      <td>23443.52930</td>\n",
       "      <td>23057.51953</td>\n",
       "      <td>23436.05078</td>\n",
       "      <td>23436.05078</td>\n",
       "      <td>1.066930e+09</td>\n",
       "      <td>3046.686601</td>\n",
       "      <td>0.018988</td>\n",
       "      <td>2011</td>\n",
       "      <td>0.018810</td>\n",
       "    </tr>\n",
       "    <tr>\n",
       "      <th>5935</th>\n",
       "      <td>HSI</td>\n",
       "      <td>2011-01-04</td>\n",
       "      <td>23477.31055</td>\n",
       "      <td>23695.60938</td>\n",
       "      <td>23408.08984</td>\n",
       "      <td>23668.48047</td>\n",
       "      <td>23668.48047</td>\n",
       "      <td>1.330693e+09</td>\n",
       "      <td>3076.902461</td>\n",
       "      <td>0.009918</td>\n",
       "      <td>2011</td>\n",
       "      <td>0.009869</td>\n",
       "    </tr>\n",
       "    <tr>\n",
       "      <th>5936</th>\n",
       "      <td>HSI</td>\n",
       "      <td>2011-01-05</td>\n",
       "      <td>23650.17969</td>\n",
       "      <td>23773.98047</td>\n",
       "      <td>23579.74023</td>\n",
       "      <td>23757.82031</td>\n",
       "      <td>23757.82031</td>\n",
       "      <td>1.277768e+09</td>\n",
       "      <td>3088.516640</td>\n",
       "      <td>0.003775</td>\n",
       "      <td>2011</td>\n",
       "      <td>0.003768</td>\n",
       "    </tr>\n",
       "    <tr>\n",
       "      <th>5937</th>\n",
       "      <td>HSI</td>\n",
       "      <td>2011-01-06</td>\n",
       "      <td>23861.22070</td>\n",
       "      <td>23861.22070</td>\n",
       "      <td>23698.38086</td>\n",
       "      <td>23786.30078</td>\n",
       "      <td>23786.30078</td>\n",
       "      <td>1.147689e+09</td>\n",
       "      <td>3092.219101</td>\n",
       "      <td>0.001199</td>\n",
       "      <td>2011</td>\n",
       "      <td>0.001198</td>\n",
       "    </tr>\n",
       "    <tr>\n",
       "      <th>5938</th>\n",
       "      <td>HSI</td>\n",
       "      <td>2011-01-07</td>\n",
       "      <td>23744.02930</td>\n",
       "      <td>23880.76953</td>\n",
       "      <td>23654.03906</td>\n",
       "      <td>23686.63086</td>\n",
       "      <td>23686.63086</td>\n",
       "      <td>1.287346e+09</td>\n",
       "      <td>3079.262012</td>\n",
       "      <td>-0.004190</td>\n",
       "      <td>2011</td>\n",
       "      <td>-0.004199</td>\n",
       "    </tr>\n",
       "    <tr>\n",
       "      <th>...</th>\n",
       "      <td>...</td>\n",
       "      <td>...</td>\n",
       "      <td>...</td>\n",
       "      <td>...</td>\n",
       "      <td>...</td>\n",
       "      <td>...</td>\n",
       "      <td>...</td>\n",
       "      <td>...</td>\n",
       "      <td>...</td>\n",
       "      <td>...</td>\n",
       "      <td>...</td>\n",
       "      <td>...</td>\n",
       "    </tr>\n",
       "    <tr>\n",
       "      <th>8487</th>\n",
       "      <td>HSI</td>\n",
       "      <td>2021-05-25</td>\n",
       "      <td>28461.50000</td>\n",
       "      <td>28929.24023</td>\n",
       "      <td>28461.50000</td>\n",
       "      <td>28910.85938</td>\n",
       "      <td>28910.85938</td>\n",
       "      <td>2.352078e+09</td>\n",
       "      <td>3758.411719</td>\n",
       "      <td>0.017549</td>\n",
       "      <td>2021</td>\n",
       "      <td>0.017397</td>\n",
       "    </tr>\n",
       "    <tr>\n",
       "      <th>8488</th>\n",
       "      <td>HSI</td>\n",
       "      <td>2021-05-26</td>\n",
       "      <td>29056.27930</td>\n",
       "      <td>29261.85938</td>\n",
       "      <td>29027.94922</td>\n",
       "      <td>29166.00977</td>\n",
       "      <td>29166.00977</td>\n",
       "      <td>2.518538e+09</td>\n",
       "      <td>3791.581270</td>\n",
       "      <td>0.008825</td>\n",
       "      <td>2021</td>\n",
       "      <td>0.008787</td>\n",
       "    </tr>\n",
       "    <tr>\n",
       "      <th>8489</th>\n",
       "      <td>HSI</td>\n",
       "      <td>2021-05-27</td>\n",
       "      <td>28998.39063</td>\n",
       "      <td>29157.94922</td>\n",
       "      <td>28950.72070</td>\n",
       "      <td>29113.19922</td>\n",
       "      <td>29113.19922</td>\n",
       "      <td>3.804955e+09</td>\n",
       "      <td>3784.715899</td>\n",
       "      <td>-0.001811</td>\n",
       "      <td>2021</td>\n",
       "      <td>-0.001812</td>\n",
       "    </tr>\n",
       "    <tr>\n",
       "      <th>8490</th>\n",
       "      <td>HSI</td>\n",
       "      <td>2021-05-28</td>\n",
       "      <td>29219.46094</td>\n",
       "      <td>29336.13086</td>\n",
       "      <td>29033.72070</td>\n",
       "      <td>29124.41016</td>\n",
       "      <td>29124.41016</td>\n",
       "      <td>2.591560e+09</td>\n",
       "      <td>3786.173321</td>\n",
       "      <td>0.000385</td>\n",
       "      <td>2021</td>\n",
       "      <td>0.000385</td>\n",
       "    </tr>\n",
       "    <tr>\n",
       "      <th>8491</th>\n",
       "      <td>HSI</td>\n",
       "      <td>2021-05-31</td>\n",
       "      <td>29225.46094</td>\n",
       "      <td>29225.46094</td>\n",
       "      <td>28909.51953</td>\n",
       "      <td>29151.80078</td>\n",
       "      <td>29151.80078</td>\n",
       "      <td>2.188581e+09</td>\n",
       "      <td>3789.734101</td>\n",
       "      <td>0.000940</td>\n",
       "      <td>2021</td>\n",
       "      <td>0.000940</td>\n",
       "    </tr>\n",
       "  </tbody>\n",
       "</table>\n",
       "<p>2558 rows × 12 columns</p>\n",
       "</div>"
      ],
      "text/plain": [
       "     Index        Date         Open         High          Low        Close  \\\n",
       "5934   HSI  2011-01-03  23135.64063  23443.52930  23057.51953  23436.05078   \n",
       "5935   HSI  2011-01-04  23477.31055  23695.60938  23408.08984  23668.48047   \n",
       "5936   HSI  2011-01-05  23650.17969  23773.98047  23579.74023  23757.82031   \n",
       "5937   HSI  2011-01-06  23861.22070  23861.22070  23698.38086  23786.30078   \n",
       "5938   HSI  2011-01-07  23744.02930  23880.76953  23654.03906  23686.63086   \n",
       "...    ...         ...          ...          ...          ...          ...   \n",
       "8487   HSI  2021-05-25  28461.50000  28929.24023  28461.50000  28910.85938   \n",
       "8488   HSI  2021-05-26  29056.27930  29261.85938  29027.94922  29166.00977   \n",
       "8489   HSI  2021-05-27  28998.39063  29157.94922  28950.72070  29113.19922   \n",
       "8490   HSI  2021-05-28  29219.46094  29336.13086  29033.72070  29124.41016   \n",
       "8491   HSI  2021-05-31  29225.46094  29225.46094  28909.51953  29151.80078   \n",
       "\n",
       "        Adj Close        Volume     CloseUSD  pct_change  year  log_return  \n",
       "5934  23436.05078  1.066930e+09  3046.686601    0.018988  2011    0.018810  \n",
       "5935  23668.48047  1.330693e+09  3076.902461    0.009918  2011    0.009869  \n",
       "5936  23757.82031  1.277768e+09  3088.516640    0.003775  2011    0.003768  \n",
       "5937  23786.30078  1.147689e+09  3092.219101    0.001199  2011    0.001198  \n",
       "5938  23686.63086  1.287346e+09  3079.262012   -0.004190  2011   -0.004199  \n",
       "...           ...           ...          ...         ...   ...         ...  \n",
       "8487  28910.85938  2.352078e+09  3758.411719    0.017549  2021    0.017397  \n",
       "8488  29166.00977  2.518538e+09  3791.581270    0.008825  2021    0.008787  \n",
       "8489  29113.19922  3.804955e+09  3784.715899   -0.001811  2021   -0.001812  \n",
       "8490  29124.41016  2.591560e+09  3786.173321    0.000385  2021    0.000385  \n",
       "8491  29151.80078  2.188581e+09  3789.734101    0.000940  2021    0.000940  \n",
       "\n",
       "[2558 rows x 12 columns]"
      ]
     },
     "execution_count": 40,
     "metadata": {},
     "output_type": "execute_result"
    }
   ],
   "source": [
    "df_hsi"
   ]
  },
  {
   "cell_type": "code",
   "execution_count": 37,
   "metadata": {},
   "outputs": [],
   "source": [
    "def test_gaussian(data):\n",
    "    res = stats.normaltest(data)\n",
    "    # interpret\n",
    "    alpha = 0.05\n",
    "    p=res.pvalue\n",
    "    print(f\"P-Value: {p}\")\n",
    "    if p > alpha:\n",
    "        print('Sample looks Gaussian (fail to reject H0)')\n",
    "    else:\n",
    "        print('Sample does not look Gaussian (reject H0)')"
   ]
  },
  {
   "cell_type": "code",
   "execution_count": 38,
   "metadata": {},
   "outputs": [
    {
     "name": "stdout",
     "output_type": "stream",
     "text": [
      "P-Value: 1.580002206156981e-44\n",
      "Sample does not look Gaussian (reject H0)\n"
     ]
    }
   ],
   "source": [
    "test_gaussian(data)"
   ]
  },
  {
   "cell_type": "code",
   "execution_count": 33,
   "metadata": {},
   "outputs": [],
   "source": [
    "def create_hist_and_normal_approximation(data):\n",
    "    ax = sns.histplot(data, kde=True, stat='density', label='samples')\n",
    "    _mean=data.mean()\n",
    "    _std=data.std()\n",
    "    # calculate the pdf\n",
    "    x0, x1 = ax.get_xlim()  # extract the endpoints for the x-axis\n",
    "    x_pdf = np.linspace(x0, x1, 100)\n",
    "    y_pdf = stats.norm.pdf(x_pdf,loc=_mean,scale=_std)\n",
    "    ax.plot(x_pdf, y_pdf, 'r', lw=2, label='Normal Approximation')                                                   \n",
    "    ax.legend()\n",
    "    return None"
   ]
  },
  {
   "cell_type": "code",
   "execution_count": 39,
   "metadata": {},
   "outputs": [
    {
     "data": {
      "image/png": "[encoded data removed]",
      "text/plain": [
       "<Figure size 640x480 with 1 Axes>"
      ]
     },
     "metadata": {},
     "output_type": "display_data"
    }
   ],
   "source": [
    "create_hist_and_normal_approximation(data)"
   ]
  },
  {
   "cell_type": "code",
   "execution_count": 20,
   "metadata": {},
   "outputs": [
    {
     "data": {
      "text/plain": [
       "5934    0.018988\n",
       "5935    0.009918\n",
       "5936    0.003775\n",
       "5937    0.001199\n",
       "5938   -0.004190\n",
       "          ...   \n",
       "8487    0.017549\n",
       "8488    0.008825\n",
       "8489   -0.001811\n",
       "8490    0.000385\n",
       "8491    0.000940\n",
       "Name: pct_change, Length: 2558, dtype: float64"
      ]
     },
     "execution_count": 20,
     "metadata": {},
     "output_type": "execute_result"
    }
   ],
   "source": [
    "df_hsi[\"pct_change\"]"
   ]
  },
  {
   "cell_type": "code",
   "execution_count": null,
   "metadata": {},
   "outputs": [],
   "source": []
  }
 ],
 "metadata": {
  "kernelspec": {
   "display_name": ".venv",
   "language": "python",
   "name": "python3"
  },
  "language_info": {
   "codemirror_mode": {
    "name": "ipython",
    "version": 3
   },
   "file_extension": ".py",
   "mimetype": "text/x-python",
   "name": "python",
   "nbconvert_exporter": "python",
   "pygments_lexer": "ipython3",
   "version": "3.10.8"
  }
 },
 "nbformat": 4,
 "nbformat_minor": 2
}
